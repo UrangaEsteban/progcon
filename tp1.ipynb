{
  "nbformat": 4,
  "nbformat_minor": 0,
  "metadata": {
    "colab": {
      "provenance": [],
      "toc_visible": true,
      "authorship_tag": "ABX9TyMZEo0a5pK7pWSjo2SsYob+",
      "include_colab_link": true
    },
    "kernelspec": {
      "name": "python3",
      "display_name": "Python 3"
    },
    "language_info": {
      "name": "python"
    }
  },
  "cells": [
    {
      "cell_type": "markdown",
      "metadata": {
        "id": "view-in-github",
        "colab_type": "text"
      },
      "source": [
        "<a href=\"https://colab.research.google.com/github/UrangaEsteban/progcon/blob/procesos_java/tp1.ipynb\" target=\"_parent\"><img src=\"https://colab.research.google.com/assets/colab-badge.svg\" alt=\"Open In Colab\"/></a>"
      ]
    },
    {
      "cell_type": "code",
      "source": [
        "!curl https://repo1.maven.org/maven2/com/google/code/gson/gson/2.10.1/gson-2.10.1.jar --output \"gson-2.10.1.jar\""
      ],
      "metadata": {
        "colab": {
          "base_uri": "https://localhost:8080/"
        },
        "id": "2TXz37y8aqu7",
        "outputId": "d5412179-5e13-4295-f765-cd9f86964ea1"
      },
      "execution_count": null,
      "outputs": [
        {
          "output_type": "stream",
          "name": "stdout",
          "text": [
            "  % Total    % Received % Xferd  Average Speed   Time    Time     Time  Current\n",
            "                                 Dload  Upload   Total   Spent    Left  Speed\n",
            "\r  0     0    0     0    0     0      0      0 --:--:-- --:--:-- --:--:--     0\r100  276k  100  276k    0     0  3502k      0 --:--:-- --:--:-- --:--:-- 3502k\n"
          ]
        }
      ]
    },
    {
      "cell_type": "code",
      "source": [
        "!ls -lash"
      ],
      "metadata": {
        "id": "geyZQ7smazLo",
        "colab": {
          "base_uri": "https://localhost:8080/"
        },
        "outputId": "a4e597cf-7387-480f-a383-0092e5e111f0"
      },
      "execution_count": null,
      "outputs": [
        {
          "output_type": "stream",
          "name": "stdout",
          "text": [
            "total 296K\n",
            "4.0K drwxr-xr-x 1 root root 4.0K Apr 14 03:38 .\n",
            "4.0K drwxr-xr-x 1 root root 4.0K Apr 14 03:36 ..\n",
            "4.0K drwxr-xr-x 4 root root 4.0K Apr 12 13:33 .config\n",
            "280K -rw-r--r-- 1 root root 277K Apr 14 03:38 gson-2.10.1.jar\n",
            "4.0K drwxr-xr-x 1 root root 4.0K Apr 12 13:34 sample_data\n"
          ]
        }
      ]
    },
    {
      "cell_type": "code",
      "source": [
        "!echo '{\"A\":[\"B\",\"C\",\"D\"],\"B\":[\"E\",\"F\"],\"D\":[\"G\"]}' > target.json"
      ],
      "metadata": {
        "id": "5s0aYZa8Ubdo"
      },
      "execution_count": null,
      "outputs": []
    },
    {
      "cell_type": "code",
      "source": [
        "%%writefile ProcessTree.java\n",
        "import com.google.gson.Gson;\n",
        "import com.google.gson.reflect.TypeToken;\n",
        "import java.lang.reflect.Type;\n",
        "import java.io.StringReader;\n",
        "import java.io.PrintWriter;\n",
        "import java.io.FileOutputStream;\n",
        "import java.io.IOException;\n",
        "import java.nio.file.Files;\n",
        "import java.nio.file.FileSystems;\n",
        "import java.nio.file.FileSystem;\n",
        "\n",
        "import java.util.*;\n",
        "\n",
        "public class ProcessTree \n",
        "{\n",
        "  public static void main(String[] args) \n",
        "  {\n",
        "    String self = (args.length == 0) ? \"A\" : String.valueOf(args[0]);\n",
        "    \n",
        "    info(self);\n",
        "    waitForChildren(spawnChildren(getDataMap(), self));\n",
        "\n",
        "    try \n",
        "    {\n",
        "      Thread.sleep(5000);\n",
        "    } catch (InterruptedException e) \n",
        "    {\n",
        "      System.err.println(\"Se ha producido una interrupción\");\n",
        "    }\n",
        "\n",
        "  }\n",
        "\n",
        "  public static void waitForChildren(List<Process> children) \n",
        "  {\n",
        "    for(Process child : children) \n",
        "    {\n",
        "      try \n",
        "      {\n",
        "        child.waitFor();\n",
        "      } catch (InterruptedException e) \n",
        "      {\n",
        "        System.err.println(\"Se ha producido una interrupción\");\n",
        "      }\n",
        "    }\n",
        "  }\n",
        "\n",
        "  public static HashMap<String, ArrayList<String>> getDataMap() \n",
        "  {\n",
        "    Gson gson = new Gson();\n",
        "    Type customType = new TypeToken<HashMap<String, ArrayList<String>>>() {}.getType();\n",
        "    return gson.fromJson(getFileData(DATA_FILE_NAME), customType); \n",
        "  }\n",
        "\n",
        "  public static String getFileData(String fileName) \n",
        "  {\n",
        "    try \n",
        "    {\n",
        "      return String.join(\"\", \n",
        "        Files.readAllLines(FileSystems.getDefault().getPath(fileName))\n",
        "      );\n",
        "    } catch (NullPointerException e) \n",
        "    {\n",
        "      e.printStackTrace();\n",
        "    } catch (IOException e) \n",
        "    {\n",
        "      System.err.println(\"No se pudo leer el archivo \" + fileName);\n",
        "      e.printStackTrace();\n",
        "    }\n",
        "    return \"\";\n",
        "  }\n",
        "\n",
        "  public synchronized static void info(String selfData) \n",
        "  {\n",
        "    try ( PrintWriter out = new PrintWriter(new FileOutputStream(OUT, true), true); ) \n",
        "    {\n",
        "      out.print(\"Soy el proceso \" + selfData + \". \");\n",
        "      out.print(\"Mi PID es: \" + ProcessHandle.current().pid() + \". \");\n",
        "      out.print(\"El PID de mi padre es: \" + ProcessHandle.current().parent().get().pid() + \".\\n\");\n",
        "      out.flush();\n",
        "    } catch (IOException e) \n",
        "    {\n",
        "      System.err.println(\"No se pudo abrir el archivo: \" + OUT);\n",
        "      e.printStackTrace();\n",
        "    } catch (NoSuchElementException e) \n",
        "    {\n",
        "      System.err.println(\"No tengo padre: \" + OUT);\n",
        "      e.printStackTrace();\n",
        "    }\n",
        "  }\n",
        "\n",
        "  public static ArrayList<Process> spawnChildren(HashMap<String, ArrayList<String>> dataMap, String self) \n",
        "  {\n",
        "    ArrayList<Process> children = new ArrayList<>();\n",
        "    if (dataMap.keySet().contains(self)) \n",
        "    {\n",
        "      for(String childValue : dataMap.get(self)) \n",
        "      {\n",
        "        try \n",
        "        {\n",
        "          children.add(new ProcessBuilder(\"java\", \"-cp\", \".:gson-2.10.1.jar:gson-2.10.1.jar:\", \"ProcessTree\", childValue, \"1>salidaJava\", \"2>errors\").start());\n",
        "        } catch (IOException e) \n",
        "        {\n",
        "          System.err.println(\"No se pudieron crear mas procesos:  \" + childValue);\n",
        "        }\n",
        "      }\n",
        "    }\n",
        "    return children;\n",
        "  }\n",
        "\n",
        "  final static String DATA_FILE_NAME = \"target.json\";\n",
        "  final static String OUT = \"miSalidaJava\";\n",
        "}"
      ],
      "metadata": {
        "colab": {
          "base_uri": "https://localhost:8080/"
        },
        "id": "0F5Jh3UN24xU",
        "outputId": "8bcc2a9f-740b-48ff-e727-9de34f9825b2"
      },
      "execution_count": null,
      "outputs": [
        {
          "output_type": "stream",
          "name": "stdout",
          "text": [
            "Overwriting ProcessTree.java\n"
          ]
        }
      ]
    },
    {
      "cell_type": "code",
      "source": [
        "!javac -cp .:gson-2.10.1.jar:gson-2.10.1.jar: ProcessTree.java"
      ],
      "metadata": {
        "id": "1vihDcwDbDxy"
      },
      "execution_count": null,
      "outputs": []
    },
    {
      "cell_type": "code",
      "source": [
        "!nohup java -cp .:gson-2.10.1.jar:gson-2.10.1.jar: ProcessTree 1>salidaJava 2>errors &  "
      ],
      "metadata": {
        "id": "hou-e5fEhSKr"
      },
      "execution_count": null,
      "outputs": []
    },
    {
      "cell_type": "markdown",
      "source": [
        "En la siguiente celda de código, lo que se hace es mostrar el árbol de procesos sin tener que copiar a manopla el process ID después de ejecutar un ps. Para reutilizarlo, hay que cambiar el /ProcessTree/ por una expresión regular que represente el nombre que se le da al proceso cuando se ejecuta un PS, y si el proceso padre no es el 1 hay que remover la parte del \"&& $2 == 1 {print $1}\" que valida que el parent process id sea 1"
      ],
      "metadata": {
        "id": "41bAiRih4zjW"
      }
    },
    {
      "cell_type": "code",
      "source": [
        "!pstree -pcT \"$(eval ps -eo pid,ppid,args | awk '$NF ~ /ProcessTree/ && $2 == 1 {print $1}')\""
      ],
      "metadata": {
        "colab": {
          "base_uri": "https://localhost:8080/"
        },
        "id": "3kC7GRY8yBaK",
        "outputId": "fd5ee292-c5f0-4a85-d971-0d5d3519e465"
      },
      "execution_count": null,
      "outputs": [
        {
          "output_type": "stream",
          "name": "stdout",
          "text": [
            "java(1684)─┬─java(1701)─┬─java(1774)\n",
            "           │            └─java(1778)\n",
            "           ├─java(1703)\n",
            "           └─java(1706)───java(1759)\n"
          ]
        }
      ]
    },
    {
      "cell_type": "code",
      "source": [
        "!cat miSalidaJava"
      ],
      "metadata": {
        "colab": {
          "base_uri": "https://localhost:8080/"
        },
        "id": "Q4B58AJae2kY",
        "outputId": "478666df-9b19-447d-e573-da20a12aea79"
      },
      "execution_count": null,
      "outputs": [
        {
          "output_type": "stream",
          "name": "stdout",
          "text": [
            "Soy el proceso A. Mi PID es: 1953. El PID de mi padre es: 1.\n",
            "Soy el proceso B. Mi PID es: 1970. El PID de mi padre es: 1953.\n",
            "Soy el proceso C. Mi PID es: 1977. El PID de mi padre es: 1953.\n",
            "Soy el proceso D. Mi PID es: 1980. El PID de mi padre es: 1953.\n",
            "Soy el proceso F. Mi PID es: 2033. El PID de mi padre es: 1970.\n",
            "Soy el proceso E. Mi PID es: 2028. El PID de mi padre es: 1970.\n",
            "Soy el proceso G. Mi PID es: 2061. El PID de mi padre es: 1980.\n"
          ]
        }
      ]
    },
    {
      "cell_type": "code",
      "source": [
        "!rm miSalidaJava"
      ],
      "metadata": {
        "id": "mLcv7_1oxngl"
      },
      "execution_count": null,
      "outputs": []
    },
    {
      "cell_type": "code",
      "source": [
        "!cat errors"
      ],
      "metadata": {
        "id": "AJ5H8NTIheiz"
      },
      "execution_count": null,
      "outputs": []
    },
    {
      "cell_type": "code",
      "source": [
        "!ps -ef "
      ],
      "metadata": {
        "colab": {
          "base_uri": "https://localhost:8080/"
        },
        "id": "5M2bcRxzhcVU",
        "outputId": "48dc7ef5-1468-4ecf-efee-e8c7c963479f"
      },
      "execution_count": null,
      "outputs": [
        {
          "output_type": "stream",
          "name": "stdout",
          "text": [
            "UID          PID    PPID  C STIME TTY          TIME CMD\n",
            "root           1       0  0 03:36 ?        00:00:00 /sbin/docker-init -- /datala\n",
            "root           7       1  0 03:36 ?        00:00:01 /tools/node/bin/node /datala\n",
            "root          19       0  0 03:36 ?        00:00:00 tail -n +0 -F /root/.config/\n",
            "root          30       7  0 03:36 ?        00:00:00 /bin/bash -e /usr/local/cola\n",
            "root          32       1  0 03:36 ?        00:00:00 /bin/bash -e /datalab/run.sh\n",
            "root          34      32  0 03:36 ?        00:00:00 /usr/colab/bin/kernel_manage\n",
            "root          60       7  2 03:36 ?        00:00:06 [python3] <defunct>\n",
            "root          61       7  0 03:36 ?        00:00:00 python3 /usr/local/bin/colab\n",
            "root          82       7  1 03:37 ?        00:00:03 /usr/bin/python3 /usr/local/\n",
            "root          83       7  0 03:37 ?        00:00:00 /usr/local/bin/dap_multiplex\n",
            "root         291      82  1 03:37 ?        00:00:03 /usr/bin/python3 -m ipykerne\n",
            "root         322       1  0 03:37 ?        00:00:00 /usr/bin/python3 /usr/local/\n",
            "root         350       7  2 03:37 ?        00:00:05 node /datalab/web/pyright/py\n",
            "root        1657      30  0 03:41 ?        00:00:00 sleep 1\n",
            "root        1658     291  0 03:41 ?        00:00:00 ps -ef\n"
          ]
        }
      ]
    }
  ]
}