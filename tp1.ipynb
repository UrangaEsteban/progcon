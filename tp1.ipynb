{
  "nbformat": 4,
  "nbformat_minor": 0,
  "metadata": {
    "colab": {
      "provenance": [],
      "authorship_tag": "ABX9TyNiTSsp677VAWtPHLFgBFto",
      "include_colab_link": true
    },
    "kernelspec": {
      "name": "python3",
      "display_name": "Python 3"
    },
    "language_info": {
      "name": "python"
    }
  },
  "cells": [
    {
      "cell_type": "markdown",
      "metadata": {
        "id": "view-in-github",
        "colab_type": "text"
      },
      "source": [
        "<a href=\"https://colab.research.google.com/github/UrangaEsteban/progcon/blob/procesos_java/tp1.ipynb\" target=\"_parent\"><img src=\"https://colab.research.google.com/assets/colab-badge.svg\" alt=\"Open In Colab\"/></a>"
      ]
    },
    {
      "cell_type": "code",
      "source": [
        "!curl https://repo1.maven.org/maven2/com/google/code/gson/gson/2.10.1/gson-2.10.1.jar --output \"gson-2.10.1.jar\""
      ],
      "metadata": {
        "colab": {
          "base_uri": "https://localhost:8080/"
        },
        "id": "2TXz37y8aqu7",
        "outputId": "0fa28456-a284-4f85-e55d-27289e378bd5"
      },
      "execution_count": null,
      "outputs": [
        {
          "output_type": "stream",
          "name": "stdout",
          "text": [
            "  % Total    % Received % Xferd  Average Speed   Time    Time     Time  Current\n",
            "                                 Dload  Upload   Total   Spent    Left  Speed\n",
            "100  276k  100  276k    0     0   290k      0 --:--:-- --:--:-- --:--:--  290k\n"
          ]
        }
      ]
    },
    {
      "cell_type": "code",
      "source": [
        "!ls -lash"
      ],
      "metadata": {
        "id": "geyZQ7smazLo"
      },
      "execution_count": null,
      "outputs": []
    },
    {
      "cell_type": "code",
      "source": [
        "!echo '{\"A\":[\"B\",\"C\",\"D\"],\"B\":[\"E\",\"F\"],\"D\":[\"G\"]}' > data.json"
      ],
      "metadata": {
        "colab": {
          "base_uri": "https://localhost:8080/"
        },
        "id": "5s0aYZa8Ubdo",
        "outputId": "43af46f2-258c-4428-9507-f84cd5152432"
      },
      "execution_count": null,
      "outputs": [
        {
          "output_type": "stream",
          "name": "stdout",
          "text": [
            "total 316K\n",
            "4.0K drwxr-xr-x 1 root root 4.0K Apr  7 20:31 .\n",
            "4.0K drwxr-xr-x 1 root root 4.0K Apr  7 18:58 ..\n",
            "4.0K drwxr-xr-x 4 root root 4.0K Apr  6 13:38 .config\n",
            "4.0K -rw-r--r-- 1 root root   44 Apr  7 20:17 data.json\n",
            "4.0K -rw-r--r-- 1 root root 3.4K Apr  7 20:11 errors\n",
            "280K -rw-r--r-- 1 root root 277K Apr  7 20:31 gson-2.10.1.jar\n",
            "4.0K -rw-r--r-- 1 root root 3.6K Apr  7 20:33 ProcessStuff.java\n",
            "   0 -rw-r--r-- 1 root root    0 Apr  7 20:11 salidaJava\n",
            "4.0K drwxr-xr-x 1 root root 4.0K Apr  6 13:39 sample_data\n",
            "4.0K -rw-r--r-- 1 root root  250 Apr  7 19:25 tp1_java.java\n",
            "4.0K -rw-r--r-- 1 root root  250 Apr  7 19:25 tpt_java.java\n"
          ]
        }
      ]
    },
    {
      "cell_type": "code",
      "source": [
        "%%writefile ProcessStuff.java\n",
        "import com.google.gson.Gson;\n",
        "import com.google.gson.reflect.TypeToken;\n",
        "import java.lang.reflect.Type;\n",
        "import java.io.StringReader;\n",
        "import java.io.PrintWriter;\n",
        "import java.io.FileOutputStream;\n",
        "import java.io.IOException;\n",
        "import java.nio.file.Files;\n",
        "import java.nio.file.FileSystems;\n",
        "import java.nio.file.FileSystem;\n",
        "import java.util.*;\n",
        "\n",
        "public class ProcessStuff {\n",
        "    public static void main(String[] args) {\n",
        "        if (args.length == 0) {\n",
        "            System.err.println(\"You need to pass an argument\");\n",
        "            return;\n",
        "        }\n",
        "        String self = String.valueOf(args[0]);\n",
        "        Gson gson = new Gson();\n",
        "        Type customType = new TypeToken<HashMap<String, ArrayList<String>>>() {}.getType();\n",
        "        HashMap<String, ArrayList<String>> dataMap = gson.fromJson(getFileData(DATA_FILE_NAME), customType); \n",
        "        \n",
        "        info(self);\n",
        "\n",
        "        ArrayList<Process> children = spawnChildren(dataMap, self);\n",
        "        for(Process child : children) {\n",
        "            try {\n",
        "              child.waitFor();\n",
        "            } catch (InterruptedException e) {\n",
        "              System.err.println(\"Can spawn no more, we've been interrupted.\");\n",
        "            }\n",
        "        }\n",
        "        try {\n",
        "          Thread.sleep(5000);\n",
        "        } catch (InterruptedException e) {\n",
        "          System.err.println(\"Can spawn no more, we've been interrupted.\");\n",
        "        }\n",
        "    }\n",
        "\n",
        "    public static String getFileData(String fileName) {\n",
        "        String data = \"\";\n",
        "        try {\n",
        "            data = String.join(\"\", Files.readAllLines(FileSystems.getDefault().getPath(fileName)));\n",
        "        } catch (NullPointerException e) {\n",
        "            e.printStackTrace();\n",
        "        } catch (IOException e) {\n",
        "            System.err.println(\"Couldn't read the file \" + fileName);\n",
        "            e.printStackTrace();\n",
        "        }\n",
        "        return data;\n",
        "    }\n",
        "\n",
        "    public synchronized static void info(String self) {\n",
        "        ProcessHandle selfProcessHandle = ProcessHandle.current();\n",
        "        try (\n",
        "            PrintWriter out = new PrintWriter(new FileOutputStream(OUT, true), true);\n",
        "        ) {\n",
        "            out.print(\"I am: \" + self + \". \");\n",
        "            out.print(\"My PID is: \" + selfProcessHandle.pid() + \". \");\n",
        "            out.print(\"My PPID is: \" + selfProcessHandle.parent().get().pid() + \".\\n\");\n",
        "            out.flush();\n",
        "        } catch (IOException e) {\n",
        "            System.err.println(\"Couldn't open file: \" + OUT);\n",
        "            e.printStackTrace();\n",
        "        } catch (NoSuchElementException e) {\n",
        "            System.err.println(\"So sorry, I've no parent: \" + OUT);\n",
        "            e.printStackTrace();\n",
        "        }\n",
        "    }\n",
        "\n",
        "    public static ArrayList<Process> spawnChildren(HashMap<String, ArrayList<String>> dataMap, String self) {\n",
        "        ArrayList<Process> children = new ArrayList<>();\n",
        "        if (dataMap.keySet().contains(self)) {\n",
        "            for(String childValue : dataMap.get(self)) {\n",
        "              try {\n",
        "                children.add(new ProcessBuilder(\"java\", \"-cp\", \".:gson-2.10.1.jar:gson-2.10.1.jar:\", \"ProcessStuff\", childValue, \"1>salidaJava\", \"2>errors\").start());\n",
        "              } catch (IOException e) {\n",
        "                System.err.println(\"Couldn't spawn new process:  \" + childValue);\n",
        "              }\n",
        "            }\n",
        "        }\n",
        "        return children;\n",
        "    }\n",
        "\n",
        "    final static String DATA_FILE_NAME = \"data.json\";\n",
        "    final static String OUT = \"miSalidaJava\";\n",
        "}"
      ],
      "metadata": {
        "colab": {
          "base_uri": "https://localhost:8080/"
        },
        "id": "0F5Jh3UN24xU",
        "outputId": "021a7309-5763-435b-a018-648406c370fd"
      },
      "execution_count": null,
      "outputs": [
        {
          "output_type": "stream",
          "name": "stdout",
          "text": [
            "Overwriting ProcessStuff.java\n"
          ]
        }
      ]
    },
    {
      "cell_type": "code",
      "source": [
        "!rm miSalidaJava"
      ],
      "metadata": {
        "id": "mLcv7_1oxngl"
      },
      "execution_count": null,
      "outputs": []
    },
    {
      "cell_type": "code",
      "source": [
        "!javac -cp .:gson-2.10.1.jar:gson-2.10.1.jar: ProcessStuff.java"
      ],
      "metadata": {
        "id": "1vihDcwDbDxy"
      },
      "execution_count": null,
      "outputs": []
    },
    {
      "cell_type": "code",
      "source": [
        "!nohup java -cp .:gson-2.10.1.jar:gson-2.10.1.jar: ProcessStuff \"A\" 1>salidaJava 2>errors &  "
      ],
      "metadata": {
        "id": "hou-e5fEhSKr"
      },
      "execution_count": null,
      "outputs": []
    },
    {
      "cell_type": "code",
      "source": [
        "%%writefile HelloWorld.java\n",
        "\n",
        "public class HelloWorld {\n",
        "    public static void main(String[] args) {\n",
        "        System.out.println();\n",
        "        try {\n",
        "          Thread.sleep(25000);\n",
        "        } catch (InterruptedException e) {\n",
        "          System.err.println(\"Can spawn no more, we've been interrupted.\");\n",
        "        }\n",
        "    }\n",
        "}"
      ],
      "metadata": {
        "colab": {
          "base_uri": "https://localhost:8080/"
        },
        "id": "PlQkoZ1jwke3",
        "outputId": "fe79a11c-9f9a-46c9-d017-02a3ea3e7e6b"
      },
      "execution_count": null,
      "outputs": [
        {
          "output_type": "stream",
          "name": "stdout",
          "text": [
            "Writing HelloWorld.java\n"
          ]
        }
      ]
    },
    {
      "cell_type": "code",
      "source": [
        "!nohup java HelloWorld.java 1>salidaJava 2>errors &  "
      ],
      "metadata": {
        "id": "GFm6M_YKw3Gq"
      },
      "execution_count": null,
      "outputs": []
    },
    {
      "cell_type": "code",
      "source": [
        "!ps -ef "
      ],
      "metadata": {
        "colab": {
          "base_uri": "https://localhost:8080/"
        },
        "id": "5M2bcRxzhcVU",
        "outputId": "d3f480e8-c619-4523-b073-1fd58517a528"
      },
      "execution_count": null,
      "outputs": [
        {
          "output_type": "stream",
          "name": "stdout",
          "text": [
            "UID          PID    PPID  C STIME TTY          TIME CMD\n",
            "root           1       0  0 18:58 ?        00:00:01 /sbin/docker-init -- /datala\n",
            "root           7       1  0 18:58 ?        00:00:24 /tools/node/bin/node /datala\n",
            "root          18       0  0 18:58 ?        00:00:01 tail -n +0 -F /root/.config/\n",
            "root          29       7  0 18:58 ?        00:00:06 /bin/bash -e /usr/local/cola\n",
            "root          31       1  0 18:58 ?        00:00:00 /bin/bash -e /datalab/run.sh\n",
            "root          33      31  0 18:58 ?        00:00:04 /usr/colab/bin/kernel_manage\n",
            "root          59       7  0 18:58 ?        00:00:08 [python3] <defunct>\n",
            "root          60       7  0 18:58 ?        00:00:00 python3 /usr/local/bin/colab\n",
            "root          80       7  0 18:58 ?        00:00:24 /usr/bin/python3 /usr/local/\n",
            "root          82       7  0 18:58 ?        00:00:11 /usr/local/bin/dap_multiplex\n",
            "root        6297      80  0 19:24 ?        00:01:04 /usr/bin/python3 -m ipykerne\n",
            "root        6342       1  0 19:24 ?        00:00:24 /usr/bin/python3 /usr/local/\n",
            "root       32117       7  0 21:05 ?        00:00:24 node /datalab/web/pyright/py\n",
            "root       53922       1 77 22:09 ?        00:00:01 java HelloWorld.java\n",
            "root       53948      29  0 22:09 ?        00:00:00 sleep 1\n",
            "root       53949    6297  0 22:09 ?        00:00:00 ps -ef\n"
          ]
        }
      ]
    },
    {
      "cell_type": "code",
      "source": [
        "!pstree -pc 53922                                          "
      ],
      "metadata": {
        "colab": {
          "base_uri": "https://localhost:8080/"
        },
        "id": "SJKE_aoZt6Zn",
        "outputId": "26b71d7f-88d8-4710-fc59-e5127c1909fa"
      },
      "execution_count": null,
      "outputs": [
        {
          "output_type": "stream",
          "name": "stdout",
          "text": [
            "java(53922)─┬─{java}(53923)\n",
            "            ├─{java}(53924)\n",
            "            ├─{java}(53925)\n",
            "            ├─{java}(53926)\n",
            "            ├─{java}(53927)\n",
            "            ├─{java}(53928)\n",
            "            ├─{java}(53929)\n",
            "            ├─{java}(53930)\n",
            "            ├─{java}(53931)\n",
            "            ├─{java}(53932)\n",
            "            ├─{java}(53933)\n",
            "            ├─{java}(53934)\n",
            "            ├─{java}(53935)\n",
            "            ├─{java}(53936)\n",
            "            ├─{java}(53937)\n",
            "            ├─{java}(53938)\n",
            "            ├─{java}(53943)\n",
            "            └─{java}(53944)\n"
          ]
        }
      ]
    },
    {
      "cell_type": "code",
      "source": [
        "!cat errors"
      ],
      "metadata": {
        "id": "AJ5H8NTIheiz"
      },
      "execution_count": null,
      "outputs": []
    },
    {
      "cell_type": "code",
      "source": [
        "!cat miSalidaJava"
      ],
      "metadata": {
        "colab": {
          "base_uri": "https://localhost:8080/"
        },
        "id": "Q4B58AJae2kY",
        "outputId": "87bbd853-d60d-40f2-c433-0d39065ac4ac"
      },
      "execution_count": null,
      "outputs": [
        {
          "output_type": "stream",
          "name": "stdout",
          "text": [
            "I am: A. My PID is: 54621. My PPID is: 1.\n",
            "I am: C. My PID is: 54640. My PPID is: 54621.\n",
            "I am: D. My PID is: 54643. My PPID is: 54621.\n",
            "I am: B. My PID is: 54638. My PPID is: 54621.\n",
            "I am: E. My PID is: 54712. My PPID is: 54638.\n",
            "I am: G. My PID is: 54696. My PPID is: 54643.\n",
            "I am: F. My PID is: 54721. My PPID is: 54638.\n"
          ]
        }
      ]
    }
  ]
}