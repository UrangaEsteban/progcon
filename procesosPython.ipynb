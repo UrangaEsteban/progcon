{
  "nbformat": 4,
  "nbformat_minor": 0,
  "metadata": {
    "colab": {
      "provenance": [],
      "authorship_tag": "ABX9TyNbgZmE8vDSpPV8J3pKq0z2",
      "include_colab_link": true
    },
    "kernelspec": {
      "name": "python3",
      "display_name": "Python 3"
    },
    "language_info": {
      "name": "python"
    }
  },
  "cells": [
    {
      "cell_type": "markdown",
      "metadata": {
        "id": "view-in-github",
        "colab_type": "text"
      },
      "source": [
        "<a href=\"https://colab.research.google.com/github/UrangaEsteban/progcon/blob/procesos_python/procesosPython.ipynb\" target=\"_parent\"><img src=\"https://colab.research.google.com/assets/colab-badge.svg\" alt=\"Open In Colab\"/></a>"
      ]
    },
    {
      "cell_type": "code",
      "execution_count": 77,
      "metadata": {
        "colab": {
          "base_uri": "https://localhost:8080/"
        },
        "id": "CDnepAhmR5HP",
        "outputId": "bd910c41-3e4e-49d2-f91d-ddf17c2cf8e6"
      },
      "outputs": [
        {
          "output_type": "stream",
          "name": "stdout",
          "text": [
            "Overwriting procesos_python.py\n"
          ]
        }
      ],
      "source": [
        "%%writefile procesos_python.py\n",
        "import os\n",
        "import time\n",
        "\n",
        "def son(data, value = None):\n",
        " if value == None:\n",
        "  value = data.get('start')\n",
        " \n",
        " children_pids = []\n",
        " if value in data.get('processes').keys(): \n",
        "  for son_value in data.get('processes').get(value):\n",
        "   pid = os.fork()\n",
        "   if pid:\n",
        "    children_pids.append(pid)\n",
        "   else:\n",
        "    son(data, son_value)\n",
        "    return\n",
        "    \n",
        "  for child_pid in children_pids:\n",
        "   os.waitpid(child_pid, 0)\n",
        "\n",
        " print('My value is: {}. My PID is: {}. My PPID is: {}'.format(value, os.getpid(), os.getppid())) \n",
        " time.sleep(25)\n",
        "\n",
        "if __name__ == '__main__':\n",
        " data = {'start': 'A','processes': {'A': ['B', 'C', 'D'],'B': ['E', 'F'],'D': ['G']}}\n",
        " son(data)"
      ]
    },
    {
      "cell_type": "code",
      "source": [
        "!nohup python procesos_python.py 1>salida 2>errors &"
      ],
      "metadata": {
        "id": "Pp6B-SEltsoW"
      },
      "execution_count": 235,
      "outputs": []
    },
    {
      "cell_type": "code",
      "source": [
        "!ps -ef | grep \"procesos_python.py\""
      ],
      "metadata": {
        "colab": {
          "base_uri": "https://localhost:8080/"
        },
        "id": "FXWgY87IwjyT",
        "outputId": "8278e8ad-4f02-41e9-c336-73c46dd96e86"
      },
      "execution_count": 236,
      "outputs": [
        {
          "output_type": "stream",
          "name": "stdout",
          "text": [
            "root       11188       1  1 03:15 ?        00:00:00 python3 procesos_python.py\n",
            "root       11190   11188  0 03:15 ?        00:00:00 python3 procesos_python.py\n",
            "root       11191   11188  0 03:15 ?        00:00:00 python3 procesos_python.py\n",
            "root       11192   11190  0 03:15 ?        00:00:00 python3 procesos_python.py\n",
            "root       11193   11188  0 03:15 ?        00:00:00 python3 procesos_python.py\n",
            "root       11194   11190  0 03:15 ?        00:00:00 python3 procesos_python.py\n",
            "root       11195   11193  0 03:15 ?        00:00:00 python3 procesos_python.py\n",
            "root       11204     154  0 03:15 ?        00:00:00 /bin/bash -c ps -ef | grep \"procesos_python.py\"\n",
            "root       11206   11204  0 03:15 ?        00:00:00 grep procesos_python.py\n"
          ]
        }
      ]
    },
    {
      "cell_type": "code",
      "source": [
        "!pstree -pc \"$(eval ps -eo pid,ppid,args | awk '$NF ~ /procesos_python.py$/ && $2 == 1 {print $1}')\""
      ],
      "metadata": {
        "colab": {
          "base_uri": "https://localhost:8080/"
        },
        "id": "wwJl1tJswp15",
        "outputId": "98a9fd51-c74e-4107-ed84-8b969dd19167"
      },
      "execution_count": 237,
      "outputs": [
        {
          "output_type": "stream",
          "name": "stdout",
          "text": [
            "python3(11188)─┬─python3(11190)─┬─python3(11192)\n",
            "               │                └─python3(11194)\n",
            "               ├─python3(11191)\n",
            "               └─python3(11193)───python3(11195)\n"
          ]
        }
      ]
    },
    {
      "cell_type": "code",
      "source": [
        "!cat salida"
      ],
      "metadata": {
        "id": "W0_kD_UFxcm6"
      },
      "execution_count": 238,
      "outputs": []
    }
  ]
}